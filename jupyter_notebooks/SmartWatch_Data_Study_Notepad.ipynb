{
  "cells": [
    {
      "cell_type": "markdown",
      "metadata": {
        "id": "0aStgWSO0E0E"
      },
      "source": [
        "# **Data Collection**"
      ]
    },
    {
      "cell_type": "markdown",
      "metadata": {
        "id": "1eLEkw5O0ECa"
      },
      "source": [
        "## Objectives\n",
        "\n",
        "* Download data from Kaggle.com and perform an initial EDA.\n",
        "\n",
        "## Inputs\n",
        "\n",
        "* unclean_smartwatch_health_data.csv\n",
        "\n",
        "## Outputs\n",
        "\n",
        "* ydata-profiling EDA\n",
        "\n",
        "## Additional Comments\n",
        "\n",
        "* In case you have any additional comments that don't fit in the previous bullets, please state them here. "
      ]
    },
    {
      "cell_type": "markdown",
      "metadata": {
        "id": "9uWZXH9LwoQg"
      },
      "source": [
        "---"
      ]
    },
    {
      "cell_type": "markdown",
      "metadata": {
        "id": "cqP-UeN-z3i2"
      },
      "source": [
        "# Change working directory"
      ]
    },
    {
      "cell_type": "markdown",
      "metadata": {},
      "source": [
        "* We are assuming you will store the notebooks in a subfolder, therefore when running the notebook in the editor, you will need to change the working directory"
      ]
    },
    {
      "cell_type": "markdown",
      "metadata": {
        "id": "aOGIGS-uz3i2"
      },
      "source": [
        "We need to change the working directory from its current folder to its parent folder\n",
        "* We access the current directory with os.getcwd()"
      ]
    },
    {
      "cell_type": "code",
      "execution_count": null,
      "metadata": {
        "id": "wZfF_j-Bz3i4",
        "outputId": "66943449-1436-4c3d-85c7-b85f9f78349b"
      },
      "outputs": [],
      "source": [
        "import os\n",
        "current_dir = os.getcwd()\n",
        "current_dir"
      ]
    },
    {
      "cell_type": "markdown",
      "metadata": {
        "id": "9MWW8E7lz3i7"
      },
      "source": [
        "We want to make the parent of the current directory the new current directory\n",
        "* os.path.dirname() gets the parent directory\n",
        "* os.chir() defines the new current directory"
      ]
    },
    {
      "cell_type": "code",
      "execution_count": null,
      "metadata": {
        "id": "TwHsQRWjz3i9",
        "outputId": "86849db3-cd2f-4cc5-ebb8-2d0caafa1a2c"
      },
      "outputs": [],
      "source": [
        "os.chdir(os.path.dirname(current_dir))\n",
        "print(\"You set a new current directory\")"
      ]
    },
    {
      "cell_type": "markdown",
      "metadata": {
        "id": "M_xPk_Ijz3i-"
      },
      "source": [
        "Confirm the new current directory"
      ]
    },
    {
      "cell_type": "code",
      "execution_count": null,
      "metadata": {
        "id": "vz3S-_kjz3jA",
        "outputId": "00b79ae4-75d0-4a96-d193-ac9ef9847ea2"
      },
      "outputs": [],
      "source": [
        "current_dir = os.getcwd()\n",
        "current_dir"
      ]
    },
    {
      "cell_type": "code",
      "execution_count": null,
      "metadata": {},
      "outputs": [],
      "source": [
        "CleanedDataFolder = \"inputs/cleaned_data/\"\n",
        "OutputFolder = \"outputs/\"\n",
        "HypothesisOneFolder = CleanedDataFolder + \"hypothesis_one_data/\""
      ]
    },
    {
      "cell_type": "code",
      "execution_count": null,
      "metadata": {},
      "outputs": [],
      "source": [
        "import pandas as pd\n",
        "\n",
        "%matplotlib inline\n",
        "# Hypothesis 1\n",
        "data = pd.read_csv(HypothesisOneFolder + \"cleaned_smartwatch_health_data.csv\")\n",
        "df1 = pd.DataFrame(data)\n",
        "df1.head()"
      ]
    },
    {
      "cell_type": "code",
      "execution_count": null,
      "metadata": {},
      "outputs": [],
      "source": []
    },
    {
      "cell_type": "markdown",
      "metadata": {
        "id": "-mavJ8DibrcQ"
      },
      "source": [
        "# Section 1 Assess Correlation and PPS score"
      ]
    },
    {
      "cell_type": "markdown",
      "metadata": {},
      "source": [
        "First i tried a pearsons correlation test, I encoded the categoric variable for this task. I feel OneHotEncoder provides more insights that OrdinalEncoder for this dataset."
      ]
    },
    {
      "cell_type": "code",
      "execution_count": null,
      "metadata": {},
      "outputs": [],
      "source": [
        "import numpy as np\n",
        "from feature_engine.encoding import OrdinalEncoder, OneHotEncoder\n",
        "\n",
        "encoder = OneHotEncoder(variables=[\"Activity Level\"])\n",
        "# I have chosen OrdinalEncoder as our categorical variables have an ordinal relationship\n",
        "        \n",
        "\n",
        "df_onehot = encoder.fit_transform(df1)\n",
        "df_onehot.head()"
      ]
    },
    {
      "cell_type": "code",
      "execution_count": null,
      "metadata": {},
      "outputs": [],
      "source": [
        "import ppscore as pps\n",
        "import matplotlib.pyplot as plt\n",
        "import numpy as np\n",
        "import seaborn as sns\n",
        "\n",
        "df = df_onehot.corr(method='pearson')\n",
        "\n",
        "# or you can use spearman method\n",
        "# df = df.corr(method='spearman')\n",
        "\n",
        "def heatmap_corr(data, threshold, figsize=(12, 12), annot_size=6):\n",
        "    # we create the mask for the upper diagonal and\n",
        "    # show only values greater than the threshold\n",
        "    mask = np.zeros_like(data, dtype=bool)\n",
        "    mask[np.triu_indices_from(mask)] = True\n",
        "    mask[abs(data) < threshold] = True\n",
        "\n",
        "    # we plot the heatmap as usual\n",
        "    fig, axes = plt.subplots(figsize=(5, 5))\n",
        "    sns.heatmap(data=data, annot=True, xticklabels=True, yticklabels=True,\n",
        "                mask=mask, cmap='viridis', annot_kws={\"size\": annot_size}, ax=axes,\n",
        "                linewidth=0.5\n",
        "                )\n",
        "    plt.ylim(len(data.columns), 0)\n",
        "    plt.show()\n",
        "\n",
        "\n",
        "heatmap_corr(data=df, threshold=0.0)"
      ]
    },
    {
      "cell_type": "markdown",
      "metadata": {},
      "source": [
        "Correlation exists where you expect to find it with the given variables, but the correlation is far too little to say for sure the columns have a direct downward or upward relationship with eachother."
      ]
    },
    {
      "cell_type": "markdown",
      "metadata": {},
      "source": [
        "The only way i was able to visualize this data clearly , was with density plots (kdeplots) as the different columns are very noisey. This may take three or four minutes to load this plot montage. Check in the outputs folder in this workspace and enter the subfolder density_plots to view the below functions vizualizations on their own, during the functions execution "
      ]
    },
    {
      "cell_type": "code",
      "execution_count": null,
      "metadata": {},
      "outputs": [],
      "source": [
        "df = df_onehot.copy()\n",
        " \n",
        " # Create output directory if it doesn't exist\n",
        "output_dir = OutputFolder + 'density_plots'\n",
        "os.makedirs(output_dir, exist_ok=True)\n",
        " \n",
        "# List of columns to compare\n",
        "columns = ['Heart Rate (BPM)', 'Blood Oxygen Level (%)', 'Step Count', 'Sleep Duration (hours)', 'Stress Level', 'Activity Level_Highly Active', 'Activity Level_Active', 'Activity Level_Sedentary']\n",
        "\n",
        "# Create a figure with subplots for the lower triangle\n",
        "fig, axes = plt.subplots(len(columns), len(columns), figsize=(20, 20))\n",
        "fig.suptitle('Density Plots Montage', fontsize=20)\n",
        "\n",
        "# Plot only the lower triangle of the matrix\n",
        "for i, col1 in enumerate(columns):\n",
        "    for j, col2 in enumerate(columns):\n",
        "        if i > j:  # This condition ensures only the lower triangle is plotted\n",
        "            sns.kdeplot(\n",
        "                x=df[col2], y=df[col1], \n",
        "                cmap='viridis', fill=True, \n",
        "                ax=axes[i, j]\n",
        "            )\n",
        "            plot_title = f'{col1} vs. {col2}'\n",
        "            axes[i, j].set_xlabel(col2)  # Set correct x-label\n",
        "            axes[i, j].set_ylabel(col1)  # Set correct y-label\n",
        "            \n",
        "            # Save each individual plot\n",
        "            individual_plot_path = os.path.join(\n",
        "                output_dir, f\"{plot_title.replace(' ', '_').lower()}.png\"\n",
        "            )\n",
        "            single_plot_fig = plt.figure()\n",
        "            sns.kdeplot(x=df[col2], y=df[col1], cmap='viridis', fill=True)\n",
        "            plt.title(plot_title)\n",
        "            plt.xlabel(col2)\n",
        "            plt.ylabel(col1)\n",
        "            plt.savefig(individual_plot_path)\n",
        "            plt.close(single_plot_fig)\n",
        "        else:\n",
        "            axes[i, j].axis('off')  # Turn off plots in the upper triangle and diagonal\n",
        "\n",
        "# Adjust layout\n",
        "plt.tight_layout(rect=[0, 0, 1, 0.96])\n",
        "\n",
        "# Save the entire montage as a single image\n",
        "montage_path = os.path.join(output_dir, 'density_plots_montage.png')"
      ]
    },
    {
      "cell_type": "markdown",
      "metadata": {},
      "source": [
        "Disregard the 5 plots in the bottom right edge"
      ]
    },
    {
      "cell_type": "markdown",
      "metadata": {},
      "source": [
        "* Blood Oxygen Level (%) vs. Heart Rate (BPM):\n",
        "\n",
        "  * There's a concentration of data points around a heart rate of 65-80 BPM and blood oxygen levels of 95-100%. This suggests that most individuals have a heart rate within this range when their blood oxygen levels are high.\n",
        "\n",
        "* Step Count vs. Heart Rate (BPM):\n",
        "\n",
        "  * Higher step counts are associated with a more tight range of heart rates, with a concentration around 60-90 BPM. This suggests that individuals with higher step counts tend to have a healthy heart rate of about 60-90 bpm, wheras people with a higher more unhealthy heart rate of around 160 bpm starts bottle necking at the 6000 steps mark. Showing few people with a high heart rate have a step count over 6000.\n",
        "\n",
        "* Step Count vs. Blood Oxygen Level (%):\n",
        "\n",
        "  * Higher step counts are associated with blood oxygen levels around 95-100%. This suggests that individuals with higher step counts tend to maintain high blood oxygen levels.\n",
        "\n",
        "* Sleep Duration (hours) vs. Heart Rate (BPM):\n",
        "\n",
        "  * There's a concentration of data points around 6-8 hours of sleep and a heart rate of 60-80 BPM. This suggests that individuals who sleep for 6-8 hours tend to have a moderate heart rate.\n",
        "\n",
        "* Sleep Duration (hours) vs. Blood Oxygen Level (%):\n",
        "\n",
        "  * Sleep duration is generally associated with blood oxygen levels around 95-100%. This suggests that individuals maintain high blood oxygen levels regardless of sleep duration.\n",
        "\n",
        "* Sleep Duration (hours) vs. Step Count:\n",
        "\n",
        "  * There's a concentration of data points around 6-8 hours of sleep. This shows that people with lower step counts tend to sleep longer than people with higher step counts. The people with lower step counts are the majority.\n",
        "\n",
        "* Stress Level vs. Heart Rate (BPM):\n",
        "\n",
        "  * There's a concentration of data points around a heart rate of 60-80 BPM and varying stress levels. This suggests that stress level is not strongly correlated with heart rate. But you could say most people during varying levels of stress experience heart rates of around 60-80 bpm.d\n",
        "\n",
        "* Stress Level vs. Blood Oxygen Level (%):\n",
        "\n",
        "  * Stress levels are associated with blood oxygen levels around 95-100%. This suggests that individuals maintain high blood oxygen levels during stress.\n",
        "\n",
        "* Stress Level vs. Step Count:\n",
        "\n",
        "  * There's a concentration of data points around varying stress levels and lower step counts. This suggests that people with a higher step count feel less stressed, with majority having a low step count and experiencing fluctuating levels of stress.\n",
        "\n",
        "* Stress Level vs. Sleep Duration (hours):\n",
        "\n",
        "  * There's a concentration of data points around 6-8 hours of sleep and varying stress levels. This suggests that people who are experiencing varying levels of stress only sleep for about 6-7 hours.\n",
        "\n",
        "*  OneHotEncoder generated columns from the \"Activity Levels\" categoric variable that consisted of 3 classes after cleaning\n",
        "\n",
        "* Activity_Level_Highly_Active vs. Heart Rate (BPM)\n",
        "\n",
        "  * It would seem people who are not classed as Highly Active (0) experience higher heart rates, possibly due to being unhealthier that people who are Highly Active (1).\n",
        "\n",
        "* Activity_Level_Highly_Active vs Blood Oxygen Level (%)\n",
        "\n",
        "  * It would seem individuals who are classed as highly active dont experience blood oxygen levels less than 94.8. So people who are highly active tend to have a slightley higher blood oxygen levels overall.\n",
        "\n",
        "* Activity_Level_Highly_Active vs. Step Count\n",
        "\n",
        "  * It seems that individuals who are not classified as highly active tend to have a more common step count of below 5,000. As the step count increases, the density bottlenecks, indicating that fewer people are achieving higher step counts. The lack of highlights in the positive high activity density area suggests that there are either fewer people in this category, or that their step counts vary significantly more compared to individuals who are not highly active.\n",
        "\n",
        "* Activity_Level_Highly_Active vs. Sleep Duration (hours)\n",
        "\n",
        "  * This shows that people dont experience much change in sleep level when highly active or not, with a higher density for the lower plot being probably due to more people are classed as not highly active than people who are maybe in the normal or low ranges.\n",
        "\n",
        "* Activity_Level_Highly_Active vs. Stress Level\n",
        "\n",
        "  * The highest density regions in the lower cluster suggest that a significant number of individuals with lower activity levels experience varying stress levels. In contrast, the upper cluster shows that fewer highly active individuals have varying stress levels.\n",
        "\n",
        "The density clusters (lighter areas) at the bottom of each plot gradually decrease as you go from Highly Active to Active to Sedentary. The higher density in the lower activity levels suggests that a larger proportion of people are classified as the lower brackets of activity levels, with individuals even being below sedentary. The lower density in the top density plot (1.0) in the Highly Active group shows that fewer individuals achieve high activity levels. The bottom plot (0.0) represents individuals who are not classified as Highly Active, Active, or Sedentary. Overall the higher density traveling downwards in these plot suggests that more people are in the lower activity groups (Sedentary and Active), and fewer people are in the Highly Active group. This indicates that more individuals fall into the lower activity brackets and higher activity levels should be promoted.\n",
        "\n",
        "**Summary**\n",
        "\n",
        "* Individuals with higher blood oxygen levels (95-100%) tend to have heart rates around 65-80 BPM.\n",
        "\n",
        "* Higher step counts (above 6,000 steps) are linked with healthier heart rates (60-90 BPM) and higher blood oxygen levels (95-100%).\n",
        "\n",
        "* People who sleep for 6-8 hours tend to have heart rates of 60-80 BPM and maintain high blood oxygen levels regardless of sleep duration.\n",
        "\n",
        "* Lower step counts are associated with longer sleep durations (6-8 hours) and higher stress levels.\n",
        "\n",
        "* Stress levels don't strongly correlate with heart rate or blood oxygen levels, but people with varying stress levels tend to have heart rates of 60-80 BPM and sleep for 6-7 hours.\n",
        "\n",
        "* Individuals classified as Highly Active generally have healthier heart rates, higher blood oxygen levels (above 94.8%), and higher step counts compared to those who are not Highly Active.\n",
        "\n",
        "* Lower activity levels (Sedentary and Active) are more common among individuals, with fewer people achieving high activity levels (Highly Active).\n"
      ]
    },
    {
      "cell_type": "markdown",
      "metadata": {},
      "source": [
        "Calculate PPS"
      ]
    },
    {
      "cell_type": "markdown",
      "metadata": {},
      "source": [
        "PPS showed no insightfull information I could use."
      ]
    },
    {
      "cell_type": "code",
      "execution_count": null,
      "metadata": {},
      "outputs": [],
      "source": [
        "pps_matrix_raw = pps.matrix(df_onehot)\n",
        "pps_matrix = pps_matrix_raw.filter(['x', 'y', 'ppscore']).pivot(columns='x', index='y', values='ppscore')"
      ]
    },
    {
      "cell_type": "code",
      "execution_count": null,
      "metadata": {},
      "outputs": [],
      "source": [
        "# We use a modified version of our custom heatmap function to plot the PPS matrix.\n",
        "def heatmap_pps(df,threshold, figsize=(8,8), font_annot = 10):\n",
        "    if len(df.columns) > 1:\n",
        "\n",
        "      mask = np.zeros_like(df, dtype=bool)\n",
        "      mask[abs(df) < threshold] = True\n",
        "\n",
        "      fig, ax = plt.subplots(figsize=figsize)\n",
        "      ax = sns.heatmap(df, annot=True, annot_kws={\"size\": font_annot},\n",
        "                       mask=mask,cmap='rocket_r', linewidth=0.05,\n",
        "                       linecolor='lightgrey')\n",
        "      \n",
        "      plt.ylim(len(df.columns),0)\n",
        "      plt.show()\n",
        "\n",
        "heatmap_pps(df=pps_matrix, threshold=0)\n"
      ]
    },
    {
      "cell_type": "markdown",
      "metadata": {},
      "source": [
        "Section 1 content"
      ]
    },
    {
      "cell_type": "markdown",
      "metadata": {
        "id": "ZY3l0-AxO93d"
      },
      "source": [
        "---"
      ]
    },
    {
      "cell_type": "markdown",
      "metadata": {},
      "source": [
        "To visualise the data perhaps better, it would be better to use an arbitrary discretizer on all numeric variables, just too see if i can glean any insights whilst the data is in a categorical form with a parallel plot and countplots."
      ]
    },
    {
      "cell_type": "code",
      "execution_count": null,
      "metadata": {},
      "outputs": [],
      "source": [
        "from feature_engine.discretisation import ArbitraryDiscretiser\n",
        "\n",
        "df = df1.copy()\n",
        "\n",
        "# Define custom bins for 'Step Count'\n",
        "bin_edges = [0, 3524, 7048, 10572, 14096, 17620, float('inf')]\n",
        "bin_labels = ['<3524', '3525-7048', '7049-10572', '10573-14096', '14097-17620', '20000+']\n",
        "\n",
        "# Define custom bins for 'Stress Level'\n",
        "bin_edges2 = [0, 3, 5, 7, 9, 11]\n",
        "bin_labels2 = ['Very Low', 'Low', 'Moderate', 'High', 'Very High']\n",
        "\n",
        "# Define Custom bins for 'Sleep Duration (hours)'\n",
        "# sleep duration is between 2 and 10 hours\n",
        "bin_edges3 = [2, 4, 6, 8, 11]\n",
        "bin_labels3 = ['2-4', '4-6', '6-8', '8-11']\n",
        "\n",
        "# Define custom bins for Heart Rate (BPM)\n",
        "# heart rate is between 40 and 114\n",
        "bin_edges4 = [39, 60, 80, 100, 114]\n",
        "bin_labels4 = ['39-60', '60-80', '80-100', '100-114']\n",
        "\n",
        "# Define custom bins for Blood Oxygen Level (%)\n",
        "# blood oxygen level is between 92 and 100\n",
        "bin_edges5 = [92, 94, 96, 98, 100]\n",
        "bin_labels5 = ['92-94', '94-96', '96-98', '98-100']\n",
        "\n",
        "\n",
        "# Initialize the ArbitraryDiscretiser with custom bins\n",
        "discretizer = ArbitraryDiscretiser(\n",
        "    binning_dict={'Step Count': bin_edges, 'Stress Level': bin_edges2,\n",
        "                  'Sleep Duration (hours)': bin_edges3,\n",
        "                  'Heart Rate (BPM)': bin_edges4,\n",
        "                  'Blood Oxygen Level (%)': bin_edges5}, return_object=True)\n",
        "\n",
        "# Fit and transform the data\n",
        "df_discretized = discretizer.fit_transform(df)\n",
        "\n",
        "# Map the bin labels to the discretized 'Step Count'\n",
        "df_discretized['Step Count'] = pd.cut(df['Step Count'], bins=bin_edges, labels=bin_labels, include_lowest=True)\n",
        "\n",
        "# Map the bin labels to the discretized 'Stress Level'\n",
        "df_discretized['Stress Level'] = pd.cut(df['Stress Level'], bins=bin_edges2, labels=bin_labels2, include_lowest=True)\n",
        "\n",
        "# Map the bin labels to the discretized 'Sleep Duration (hours)'\n",
        "df_discretized['Sleep Duration (hours)'] = pd.cut(df['Sleep Duration (hours)'], bins=bin_edges3, labels=bin_labels3, include_lowest=True)\n",
        "\n",
        "# Map the bin labels to the discretized 'Heart Rate (BPM)'\n",
        "df_discretized['Heart Rate (BPM)'] = pd.cut(df['Heart Rate (BPM)'], bins=bin_edges4, labels=bin_labels4, include_lowest=True)\n",
        "\n",
        "# Map the bin labels to the discretized 'Blood Oxygen Level (%)'\n",
        "df_discretized['Blood Oxygen Level (%)'] = pd.cut(df['Blood Oxygen Level (%)'], bins=bin_edges5, labels=bin_labels5, include_lowest=True)\n",
        "\n",
        "\n"
      ]
    },
    {
      "cell_type": "markdown",
      "metadata": {},
      "source": [
        "I can use the below parallel plot to explain the data better to non-techniqual individuals"
      ]
    },
    {
      "cell_type": "code",
      "execution_count": null,
      "metadata": {},
      "outputs": [],
      "source": [
        "import plotly.express as px\n",
        "# Feel free to include Blood Oxygen Level (%) and Heart Rate (BPM) in the parallel categories plot.\n",
        "to_include_parrallel = ['Step Count', 'Sleep Duration (hours)', 'Stress Level', 'Activity Level']\n",
        "\n",
        "fig = px.parallel_categories(df_discretized, dimensions=to_include_parrallel)\n",
        "fig.show(renderer='jupyterlab')\n"
      ]
    },
    {
      "cell_type": "markdown",
      "metadata": {},
      "source": [
        "## Overall Summary"
      ]
    },
    {
      "cell_type": "markdown",
      "metadata": {},
      "source": [
        "**Summary**\n",
        "\n",
        "* Individuals with higher blood oxygen levels (95-100%) tend to have heart rates around 65-80 BPM.\n",
        "\n",
        "* Higher step counts (above 6,000 steps) are linked with healthier heart rates (60-90 BPM) and higher blood oxygen levels (95-100%).\n",
        "\n",
        "* People who sleep for 6-8 hours tend to have heart rates of 60-80 BPM and maintain high blood oxygen levels regardless of sleep duration.\n",
        "\n",
        "* Lower step counts are associated with longer sleep durations (6-8 hours) and higher stress levels.\n",
        "\n",
        "* Stress levels don't strongly correlate with heart rate or blood oxygen levels, but people with varying stress levels tend to have heart rates of 60-80 BPM and sleep for 6-7 hours.\n",
        "\n",
        "* Individuals classified as Highly Active generally have healthier heart rates, higher blood oxygen levels (above 94.8%), and higher step counts compared to those who are not Highly Active.\n",
        "\n",
        "* Lower activity levels (Sedentary and Active) are more common among individuals, with fewer people achieving high activity levels (Highly Active)."
      ]
    },
    {
      "cell_type": "markdown",
      "metadata": {},
      "source": [
        "## Extra analysis / Visuals"
      ]
    },
    {
      "cell_type": "code",
      "execution_count": null,
      "metadata": {},
      "outputs": [],
      "source": [
        "import matplotlib.pyplot as plt\n",
        "import seaborn as sns\n",
        "sns.set_style('whitegrid')\n",
        "\n",
        "df_eda = df_discretized.copy()\n",
        "\n",
        "# Define a custom color palette\n",
        "custom_palette = ['#1f77b4', '#ff7f0e', '#2ca02c', '#d62728', '#8D6F64', '#060270']\n",
        "\n",
        "# Set the custom palette\n",
        "sns.set_palette(custom_palette)\n",
        "\n",
        "vars_to_study = ['Heart Rate (BPM)', 'Blood Oxygen Level (%)', 'Step Count', 'Sleep Duration (hours)', 'Stress Level', 'Activity Level']\n",
        "\n",
        "def plot_categorical(df, col, target_var):\n",
        "\n",
        "    plt.figure(figsize=(12, 5))\n",
        "    sns.countplot(data=df, x=col, hue=target_var, palette=custom_palette, order=df[col].value_counts().index)\n",
        "    plt.xticks(rotation=90)\n",
        "    plt.title(f\"{col}\", fontsize=20, y=1.05)\n",
        "    plt.show()\n",
        "\n",
        "\n",
        "def plot_numerical(df, col, target_var):\n",
        "    plt.figure(figsize=(8, 5))\n",
        "    sns.histplot(data=df, x=col, hue=target_var, kde=True, element=\"poly\", palette=custom_palette)\n",
        "    plt.title(f\"{col}\", fontsize=20, y=1.05)\n",
        "    plt.show()"
      ]
    },
    {
      "cell_type": "markdown",
      "metadata": {},
      "source": [
        "Plotted the target variables for hypothesis 2 and 3"
      ]
    },
    {
      "cell_type": "code",
      "execution_count": null,
      "metadata": {},
      "outputs": [],
      "source": [
        "target_var = 'Step Count'\n",
        "for col in vars_to_study:\n",
        "    if df_eda[col].dtype == 'object':\n",
        "        plot_categorical(df_eda, col, target_var)\n",
        "        print(\"\\n\\n\")\n",
        "    else:\n",
        "        plot_numerical(df_eda, col, target_var)\n",
        "        print(\"\\n\\n\")"
      ]
    },
    {
      "cell_type": "code",
      "execution_count": null,
      "metadata": {},
      "outputs": [],
      "source": [
        "study2 = vars_to_study.copy()\n",
        "study2.remove(\"Stress Level\")\n",
        "target_var = 'Stress Level'\n",
        "for col in study2:\n",
        "    if df_eda[col].dtype == 'object':\n",
        "        plot_categorical(df_eda, col, target_var)\n",
        "        print(\"\\n\\n\")\n",
        "    else:\n",
        "        plot_numerical(df_eda, col, target_var)\n",
        "        print(\"\\n\\n\")"
      ]
    },
    {
      "cell_type": "markdown",
      "metadata": {},
      "source": [
        "I will save the discretized dataset incase for whatever reason we need to change our ML task into a classification problem."
      ]
    },
    {
      "cell_type": "code",
      "execution_count": 170,
      "metadata": {},
      "outputs": [],
      "source": [
        "discret_folder = os.path.join(CleanedDataFolder, \"discretized_dataset/\")\n",
        "os.makedirs(discret_folder, exist_ok=True)\n",
        "df_discretized.to_csv(discret_folder + \"discretized_smartwatch_health_data.csv\", index=False)\n"
      ]
    },
    {
      "cell_type": "markdown",
      "metadata": {},
      "source": [
        "NOTE"
      ]
    },
    {
      "cell_type": "markdown",
      "metadata": {},
      "source": [
        "* You may add as many sections as you want, as long as it supports your project workflow.\n",
        "* All notebook's cells should be run top-down (you can't create a dynamic wherein a given point you need to go back to a previous cell to execute some task, like go back to a previous cell and refresh a variable content)"
      ]
    },
    {
      "cell_type": "markdown",
      "metadata": {},
      "source": [
        "---"
      ]
    },
    {
      "cell_type": "markdown",
      "metadata": {
        "id": "ltNetd085qHf"
      },
      "source": [
        "# Push files to Repo"
      ]
    },
    {
      "cell_type": "markdown",
      "metadata": {},
      "source": [
        "* In case you don't need to push files to Repo, you may replace this section with \"Conclusions and Next Steps\" and state your conclusions and next steps."
      ]
    },
    {
      "cell_type": "code",
      "execution_count": null,
      "metadata": {
        "id": "aKlnIozA4eQO",
        "outputId": "fd09bc1f-adb1-4511-f6ce-492a6af570c0"
      },
      "outputs": [],
      "source": [
        "import os\n",
        "try:\n",
        "  # create here your folder\n",
        "  # os.makedirs(name='')\n",
        "except Exception as e:\n",
        "  print(e)\n"
      ]
    }
  ],
  "metadata": {
    "accelerator": "GPU",
    "colab": {
      "name": "Data Practitioner Jupyter Notebook.ipynb",
      "provenance": [],
      "toc_visible": true
    },
    "kernelspec": {
      "display_name": "Python 3",
      "language": "python",
      "name": "python3"
    },
    "language_info": {
      "codemirror_mode": {
        "name": "ipython",
        "version": 3
      },
      "file_extension": ".py",
      "mimetype": "text/x-python",
      "name": "python",
      "nbconvert_exporter": "python",
      "pygments_lexer": "ipython3",
      "version": "3.12.1"
    },
    "orig_nbformat": 2
  },
  "nbformat": 4,
  "nbformat_minor": 2
}
